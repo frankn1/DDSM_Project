{
 "cells": [
  {
   "cell_type": "code",
   "execution_count": 2,
   "metadata": {},
   "outputs": [],
   "source": [
    "import numpy as np # linear algebra\n",
    "import pandas as pd # data processing, CSV file I/O (e.g. pd.read_csv)\n",
    "import pydicom\n",
    "import os, sys\n",
    "import scipy.ndimage\n",
    "import pickle\n",
    "from multiprocessing import Pool\n",
    "from skimage import measure, morphology\n",
    "import random\n",
    "import pylab\n",
    "import skimage.transform\n",
    "\n",
    "import matplotlib.pyplot as plt\n",
    "import matplotlib.image as mpimg\n",
    "from matplotlib.pyplot import imshow, figure, hist, plot, scatter, colorbar\n",
    "get_ipython().magic('matplotlib inline')\n",
    "\n",
    "np.random.seed(314159)\n",
    "random.seed(314159)"
   ]
  },
  {
   "cell_type": "code",
   "execution_count": 2,
   "metadata": {},
   "outputs": [],
   "source": [
    "DATA_PATH = 'D:\\\\DDSM_Clean'"
   ]
  },
  {
   "cell_type": "code",
   "execution_count": 8,
   "metadata": {},
   "outputs": [],
   "source": [
    "def get_file_names(path):\n",
    "    x=[]\n",
    "    for root, dirs, files in os.walk(path, topdown=False):\n",
    "        for name in files:\n",
    "            x.append(os.path.join(root, name))\n",
    "    return x"
   ]
  },
  {
   "cell_type": "code",
   "execution_count": 9,
   "metadata": {},
   "outputs": [],
   "source": [
    "file_names = get_file_names(DATA_PATH)"
   ]
  },
  {
   "cell_type": "code",
   "execution_count": 10,
   "metadata": {},
   "outputs": [],
   "source": [
    "df_mass = pd.read_csv(DATA_PATH + '/mass_case_description_train_set.csv')\n",
    "df_calc = pd.read_csv(DATA_PATH + '/calc_case_description_train_set.csv')"
   ]
  },
  {
   "cell_type": "code",
   "execution_count": 12,
   "metadata": {},
   "outputs": [],
   "source": [
    "#Convert file names to a dataframe for Mass-Training Set\n",
    "df_mass[\"file_name\"] = [ None for x in range(len(df_mass)) ]\n",
    "\n",
    "for n in range(len(df_mass)):\n",
    "    key = '\\\\Mass-Training_' + df_mass[\"patient_id\"][n] +'_'+ df_mass[\"left or right breast\"][n] +'_'+ df_mass[\"image view\"][n]\n",
    "    for fn in file_names:\n",
    "        if key in fn:\n",
    "            df_mass.loc[n, \"file_name\"] = fn\n",
    "            break"
   ]
  },
  {
   "cell_type": "code",
   "execution_count": 13,
   "metadata": {},
   "outputs": [],
   "source": [
    "#Convert file names to a dataframe for Calc-Training Set\n",
    "df_calc[\"file_name\"] = [ None for x in range(len(df_calc)) ]\n",
    "\n",
    "for n in range(len(df_calc)):\n",
    "    key = '\\\\Calc-Training_' + df_calc[\"patient_id\"][n] +'_'+ df_calc[\"left or right breast\"][n] +'_'+ df_calc[\"image view\"][n]\n",
    "    for fn in file_names:\n",
    "        if key in fn:\n",
    "            df_calc.loc[n, \"file_name\"] = fn\n",
    "            break"
   ]
  },
  {
   "cell_type": "code",
   "execution_count": 14,
   "metadata": {},
   "outputs": [
    {
     "name": "stdout",
     "output_type": "stream",
     "text": [
      "2864 2864\n"
     ]
    }
   ],
   "source": [
    "file_names = list(df_mass[\"file_name\"]) + list(df_calc[\"file_name\"])\n",
    "breast_density = list(df_mass[\"breast_density\"]) + list(df_calc[\"breast density\"])\n",
    "print(len(file_names), len(breast_density))"
   ]
  },
  {
   "cell_type": "code",
   "execution_count": 15,
   "metadata": {},
   "outputs": [
    {
     "name": "stdout",
     "output_type": "stream",
     "text": [
      "D:\\DDSM_Clean\\Mass_Train\\Mass-Training_P_01367_LEFT_MLO\n"
     ]
    },
    {
     "data": {
      "image/png": "[encoded data removed]",
      "text/plain": [
       "<Figure size 432x288 with 1 Axes>"
      ]
     },
     "metadata": {
      "needs_background": "light"
     },
     "output_type": "display_data"
    }
   ],
   "source": [
    "d = pydicom.read_file(file_names[955]) #732 gives error\n",
    "print(file_names[955])\n",
    "image = d.pixel_array\n",
    "image_small = skimage.transform.resize(image, (224,224), preserve_range=True)\n",
    "imshow(image_small, cmap='gray')\n",
    "plt.show()"
   ]
  },
  {
   "cell_type": "code",
   "execution_count": 178,
   "metadata": {
    "collapsed": true
   },
   "outputs": [
    {
     "name": "stdout",
     "output_type": "stream",
     "text": [
      "2863 out of 2864\n"
     ]
    },
    {
     "data": {
      "text/plain": [
       "2864"
      ]
     },
     "execution_count": 178,
     "metadata": {},
     "output_type": "execute_result"
    }
   ],
   "source": [
    "#WARNING Take Long Time: Create an image file of all images from file_names\n",
    "images = []\n",
    "i = 0\n",
    "for fn in file_names:\n",
    "    d = pydicom.read_file(fn)\n",
    "    image = d.pixel_array\n",
    "    image_small = skimage.transform.resize(image, (224,224), preserve_range=True) #specify image resize\n",
    "    images.append(image_small)\n",
    "    print(i, \"out of\", len(file_names))\n",
    "    i +=1\n",
    "len(images)"
   ]
  },
  {
   "cell_type": "code",
   "execution_count": 183,
   "metadata": {},
   "outputs": [],
   "source": [
    "np.save('images.npy', images)"
   ]
  },
  {
   "cell_type": "code",
   "execution_count": 3,
   "metadata": {},
   "outputs": [],
   "source": [
    "images = np.load('images.npy')"
   ]
  },
  {
   "cell_type": "code",
   "execution_count": 4,
   "metadata": {},
   "outputs": [
    {
     "data": {
      "image/png": "[encoded data removed]",
      "text/plain": [
       "<Figure size 432x288 with 1 Axes>"
      ]
     },
     "metadata": {
      "needs_background": "light"
     },
     "output_type": "display_data"
    }
   ],
   "source": [
    "im = images[0] / images[0].max()\n",
    "plt.imshow(im, cmap='gray')\n",
    "plt.show()"
   ]
  },
  {
   "cell_type": "code",
   "execution_count": 5,
   "metadata": {},
   "outputs": [],
   "source": [
    "X = np.stack(images)[...,None]\n",
    "X = np.repeat(X, 3, axis=-1) #because ImageNet is RGB\n",
    "X = (X - np.mean(X)) / np.std(X)"
   ]
  },
  {
   "cell_type": "code",
   "execution_count": 16,
   "metadata": {},
   "outputs": [],
   "source": [
    "y = np.asarray(breast_density)-1\n",
    "y = y[ :X.shape[0] ]"
   ]
  },
  {
   "cell_type": "code",
   "execution_count": 17,
   "metadata": {},
   "outputs": [],
   "source": [
    "#np.save('mdata_X.npy', X)\n",
    "#np.save('mdata_y.npy', y)"
   ]
  },
  {
   "cell_type": "code",
   "execution_count": 66,
   "metadata": {},
   "outputs": [],
   "source": [
    "X = np.load('mdata_X.npy')\n",
    "y = np.load('mdata_y.npy')"
   ]
  },
  {
   "cell_type": "code",
   "execution_count": 4,
   "metadata": {
    "scrolled": true
   },
   "outputs": [],
   "source": [
    "import tensorflow as tf\n",
    "from tensorflow.keras.applications import VGG16, Xception, ResNet50\n",
    "from tensorflow.keras.models import Model\n",
    "from tensorflow.keras.layers import GlobalAveragePooling2D, Conv2D, Dense, Flatten\n",
    "from tensorflow.keras.optimizers import SGD, Adam, Nadam, RMSprop\n",
    "from tensorflow.keras.preprocessing.image import ImageDataGenerator"
   ]
  },
  {
   "cell_type": "code",
   "execution_count": 5,
   "metadata": {},
   "outputs": [],
   "source": [
    "model_base = VGG16(include_top=False, weights='imagenet', input_shape=(224,224,3))"
   ]
  },
  {
   "cell_type": "code",
   "execution_count": 6,
   "metadata": {},
   "outputs": [],
   "source": [
    "x = model_base.layers[-1].output\n",
    "#x = Flatten()(x)\n",
    "x = GlobalAveragePooling2D()(x)\n",
    "x = Dense(512, kernel_initializer='orthogonal', activation='relu')(x)\n",
    "x = Dense(4, kernel_initializer='orthogonal', activation='softmax')(x)\n",
    "\n",
    "model2 = Model(model_base.inputs, x)"
   ]
  },
  {
   "cell_type": "code",
   "execution_count": 7,
   "metadata": {},
   "outputs": [],
   "source": [
    "optimizer = Adam(lr=0.0001)\n",
    "model2.compile(loss='sparse_categorical_crossentropy', metrics=['accuracy'], optimizer=optimizer)"
   ]
  },
  {
   "cell_type": "code",
   "execution_count": 8,
   "metadata": {},
   "outputs": [
    {
     "name": "stdout",
     "output_type": "stream",
     "text": [
      "Epoch 1/10\n",
      "36/36 [==============================] - 1104s 31s/step - loss: 1.2707 - accuracy: 0.3763 - val_loss: 1.2586 - val_accuracy: 0.2880\n",
      "Epoch 2/10\n",
      "36/36 [==============================] - 1066s 30s/step - loss: 1.0770 - accuracy: 0.4998 - val_loss: 0.9040 - val_accuracy: 0.5916\n",
      "Epoch 3/10\n",
      "36/36 [==============================] - 1057s 29s/step - loss: 0.8368 - accuracy: 0.6281 - val_loss: 1.0153 - val_accuracy: 0.5148\n",
      "Epoch 4/10\n",
      "36/36 [==============================] - 1056s 29s/step - loss: 0.7532 - accuracy: 0.6770 - val_loss: 0.7278 - val_accuracy: 0.6754\n",
      "Epoch 5/10\n",
      "36/36 [==============================] - 1056s 29s/step - loss: 0.6850 - accuracy: 0.7128 - val_loss: 0.8359 - val_accuracy: 0.6527\n",
      "Epoch 6/10\n",
      "36/36 [==============================] - 1062s 30s/step - loss: 0.5926 - accuracy: 0.7486 - val_loss: 0.7711 - val_accuracy: 0.6300\n",
      "Epoch 7/10\n",
      "36/36 [==============================] - 1060s 29s/step - loss: 0.5095 - accuracy: 0.7927 - val_loss: 0.7970 - val_accuracy: 0.6475\n",
      "Epoch 8/10\n",
      "36/36 [==============================] - 1059s 29s/step - loss: 0.4898 - accuracy: 0.7992 - val_loss: 0.7867 - val_accuracy: 0.6649\n",
      "Epoch 9/10\n",
      "36/36 [==============================] - 1057s 29s/step - loss: 0.3905 - accuracy: 0.8512 - val_loss: 1.0676 - val_accuracy: 0.6614\n",
      "Epoch 10/10\n",
      "36/36 [==============================] - 1077s 30s/step - loss: 0.3547 - accuracy: 0.8586 - val_loss: 0.8546 - val_accuracy: 0.6824\n"
     ]
    },
    {
     "data": {
      "text/plain": [
       "<tensorflow.python.keras.callbacks.History at 0x189d2ba9e80>"
      ]
     },
     "execution_count": 8,
     "metadata": {},
     "output_type": "execute_result"
    }
   ],
   "source": [
    "model2.fit(\n",
    "    X, \n",
    "    y, \n",
    "    batch_size=64,\n",
    "    epochs=10,\n",
    "    validation_split=0.2\n",
    ")"
   ]
  },
  {
   "cell_type": "code",
   "execution_count": 10,
   "metadata": {},
   "outputs": [],
   "source": [
    "model2.save('br_vgg_aug.h5')"
   ]
  },
  {
   "cell_type": "code",
   "execution_count": 8,
   "metadata": {},
   "outputs": [],
   "source": [
    "model2 = tf.keras.models.load_model('br_vgg_aug.h5')"
   ]
  },
  {
   "cell_type": "code",
   "execution_count": 9,
   "metadata": {},
   "outputs": [
    {
     "name": "stdout",
     "output_type": "stream",
     "text": [
      "Model: \"functional_1\"\n",
      "_________________________________________________________________\n",
      "Layer (type)                 Output Shape              Param #   \n",
      "=================================================================\n",
      "input_1 (InputLayer)         [(None, 224, 224, 3)]     0         \n",
      "_________________________________________________________________\n",
      "block1_conv1 (Conv2D)        (None, 224, 224, 64)      1792      \n",
      "_________________________________________________________________\n",
      "block1_conv2 (Conv2D)        (None, 224, 224, 64)      36928     \n",
      "_________________________________________________________________\n",
      "block1_pool (MaxPooling2D)   (None, 112, 112, 64)      0         \n",
      "_________________________________________________________________\n",
      "block2_conv1 (Conv2D)        (None, 112, 112, 128)     73856     \n",
      "_________________________________________________________________\n",
      "block2_conv2 (Conv2D)        (None, 112, 112, 128)     147584    \n",
      "_________________________________________________________________\n",
      "block2_pool (MaxPooling2D)   (None, 56, 56, 128)       0         \n",
      "_________________________________________________________________\n",
      "block3_conv1 (Conv2D)        (None, 56, 56, 256)       295168    \n",
      "_________________________________________________________________\n",
      "block3_conv2 (Conv2D)        (None, 56, 56, 256)       590080    \n",
      "_________________________________________________________________\n",
      "block3_conv3 (Conv2D)        (None, 56, 56, 256)       590080    \n",
      "_________________________________________________________________\n",
      "block3_pool (MaxPooling2D)   (None, 28, 28, 256)       0         \n",
      "_________________________________________________________________\n",
      "block4_conv1 (Conv2D)        (None, 28, 28, 512)       1180160   \n",
      "_________________________________________________________________\n",
      "block4_conv2 (Conv2D)        (None, 28, 28, 512)       2359808   \n",
      "_________________________________________________________________\n",
      "block4_conv3 (Conv2D)        (None, 28, 28, 512)       2359808   \n",
      "_________________________________________________________________\n",
      "block4_pool (MaxPooling2D)   (None, 14, 14, 512)       0         \n",
      "_________________________________________________________________\n",
      "block5_conv1 (Conv2D)        (None, 14, 14, 512)       2359808   \n",
      "_________________________________________________________________\n",
      "block5_conv2 (Conv2D)        (None, 14, 14, 512)       2359808   \n",
      "_________________________________________________________________\n",
      "block5_conv3 (Conv2D)        (None, 14, 14, 512)       2359808   \n",
      "_________________________________________________________________\n",
      "block5_pool (MaxPooling2D)   (None, 7, 7, 512)         0         \n",
      "_________________________________________________________________\n",
      "global_average_pooling2d (Gl (None, 512)               0         \n",
      "_________________________________________________________________\n",
      "dense (Dense)                (None, 512)               262656    \n",
      "_________________________________________________________________\n",
      "dense_1 (Dense)              (None, 4)                 2052      \n",
      "=================================================================\n",
      "Total params: 14,979,396\n",
      "Trainable params: 14,979,396\n",
      "Non-trainable params: 0\n",
      "_________________________________________________________________\n"
     ]
    }
   ],
   "source": [
    "model2.summary()"
   ]
  },
  {
   "cell_type": "code",
   "execution_count": 10,
   "metadata": {},
   "outputs": [],
   "source": [
    "y_pred = model2.predict(X)"
   ]
  },
  {
   "cell_type": "code",
   "execution_count": 11,
   "metadata": {},
   "outputs": [],
   "source": [
    "#Assign variables for error analysis.\n",
    "#y_pred_assigned = [ np.argmax(y_pred[n]) for n in range(len(y_pred)) ]\n",
    "y_pred_assigned = [ np.round(y_pred[n].dot(np.arange((4)))) for n in range(len(y_pred)) ]\n",
    "y_pred_conf = [ np.max(y_pred[n]) for n in range(len(y_pred)) ]"
   ]
  },
  {
   "cell_type": "code",
   "execution_count": 12,
   "metadata": {},
   "outputs": [],
   "source": [
    "import itertools\n",
    "def plot_confusion_matrix(cm, classes,\n",
    "                          normalize=False,\n",
    "                          do_cell_labels=False,\n",
    "                          title='Confusion matrix',\n",
    "                          cmap=plt.cm.Blues):\n",
    "    \"\"\"\n",
    "    This function prints and plots the confusion matrix.\n",
    "    Normalization can be applied by setting `normalize=True`.\n",
    "    \"\"\"\n",
    "    plt.imshow(cm / np.amax(cm), interpolation='nearest', cmap=cmap)\n",
    "    plt.title(title)\n",
    "    plt.colorbar()\n",
    "    tick_marks = np.arange(len(classes))\n",
    "    plt.xticks(tick_marks, classes, rotation=45)\n",
    "    plt.yticks(tick_marks, classes)\n",
    "\n",
    "    if normalize:\n",
    "        cm = cm.astype('float') / cm.sum(axis=1)[:, np.newaxis]\n",
    "        print(\"Normalized confusion matrix\")\n",
    "    else:\n",
    "        print('Confusion matrix, without normalization')\n",
    "\n",
    "    print(cm)\n",
    "    \n",
    "    if do_cell_labels:\n",
    "        thresh = cm.max() / 2.\n",
    "        for i, j in itertools.product(range(cm.shape[0]), range(cm.shape[1])):\n",
    "            plt.text(j, i, cm[i, j],\n",
    "                     horizontalalignment=\"center\",\n",
    "                     color=\"white\" if cm[i, j] > thresh else \"black\")\n",
    "\n",
    "    plt.tight_layout()\n",
    "    plt.ylabel('True label')\n",
    "    plt.xlabel('Predicted label')"
   ]
  },
  {
   "cell_type": "code",
   "execution_count": 13,
   "metadata": {},
   "outputs": [
    {
     "data": {
      "text/plain": [
       "array([[ 416,   43,    3,    0],\n",
       "       [  40, 1009,   35,    2],\n",
       "       [   1,  104,  746,   25],\n",
       "       [   0,    4,  104,  332]], dtype=int64)"
      ]
     },
     "execution_count": 13,
     "metadata": {},
     "output_type": "execute_result"
    }
   ],
   "source": [
    "from sklearn.metrics import confusion_matrix\n",
    "cm = confusion_matrix(y, y_pred_assigned)\n",
    "cm"
   ]
  },
  {
   "cell_type": "code",
   "execution_count": 14,
   "metadata": {},
   "outputs": [
    {
     "name": "stdout",
     "output_type": "stream",
     "text": [
      "Confusion matrix, without normalization\n",
      "[[ 416   43    3    0]\n",
      " [  40 1009   35    2]\n",
      " [   1  104  746   25]\n",
      " [   0    4  104  332]]\n"
     ]
    },
    {
     "data": {
      "image/png": "[encoded data removed]",
      "text/plain": [
       "<Figure size 432x288 with 2 Axes>"
      ]
     },
     "metadata": {
      "needs_background": "light"
     },
     "output_type": "display_data"
    }
   ],
   "source": [
    "plot_confusion_matrix(cm, ['A', 'B', 'C', 'D'], normalize=False, do_cell_labels=True)"
   ]
  },
  {
   "cell_type": "code",
   "execution_count": 24,
   "metadata": {},
   "outputs": [
    {
     "name": "stdout",
     "output_type": "stream",
     "text": [
      "Accuracy: 87.39525139664805 %\n"
     ]
    }
   ],
   "source": [
    "cor = 0\n",
    "for i in range(len(y)):\n",
    "    if y[i] == y_pred_assigned[i]:\n",
    "        cor += 1\n",
    "        \n",
    "print(\"Accuracy:\", cor/len(y)*100, \"%\")"
   ]
  },
  {
   "cell_type": "code",
   "execution_count": 42,
   "metadata": {},
   "outputs": [
    {
     "name": "stdout",
     "output_type": "stream",
     "text": [
      "Selectivity of class 0 : 0.9004329004329005\n",
      "Specificity of class 0 : 0.9829308909242298\n",
      "\n",
      "Selectivity of class 1 : 0.929097605893186\n",
      "Specificity of class 1 : 0.9150731158605174\n",
      "\n",
      "Selectivity of class 2 : 0.8515981735159818\n",
      "Specificity of class 2 : 0.9285714285714286\n",
      "\n",
      "Selectivity of class 3 : 0.7545454545454545\n",
      "Specificity of class 3 : 0.9888613861386139\n",
      "\n"
     ]
    }
   ],
   "source": [
    "for classNum in range(4):\n",
    "    tp = 0\n",
    "    tn = 0\n",
    "    fp = 0\n",
    "    fn = 0\n",
    "    for i in range(len(y)):\n",
    "        if y[i] == classNum and y_pred_assigned[i] == classNum:\n",
    "            tp += 1\n",
    "        elif y[i] != classNum and y_pred_assigned[i] != classNum:\n",
    "            tn += 1\n",
    "        elif y[i] != classNum and y_pred_assigned[i] == classNum:\n",
    "            fp += 1\n",
    "        elif y[i] == classNum and y_pred_assigned[i] != classNum:\n",
    "            fn += 1\n",
    "\n",
    "    tpr = tp / (tp + fn)\n",
    "    tnr = tn / (tn + fp)\n",
    "\n",
    "    print(\"Selectivity of class\", classNum, \":\", tpr)\n",
    "    print(\"Specificity of class\", classNum, \":\", tnr)\n",
    "    print(\"\")"
   ]
  }
 ],
 "metadata": {
  "kernelspec": {
   "display_name": "Python 3",
   "language": "python",
   "name": "python3"
  },
  "language_info": {
   "codemirror_mode": {
    "name": "ipython",
    "version": 3
   },
   "file_extension": ".py",
   "mimetype": "text/x-python",
   "name": "python",
   "nbconvert_exporter": "python",
   "pygments_lexer": "ipython3",
   "version": "3.8.3"
  }
 },
 "nbformat": 4,
 "nbformat_minor": 4
}
